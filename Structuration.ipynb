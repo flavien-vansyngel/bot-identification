{
 "cells": [
  {
   "cell_type": "markdown",
   "metadata": {},
   "source": [
    "# Structuration of the log file\n",
    "\n",
    "<ins>Aim</ins> - Transform the raw log file into a structured dataset table suited for analysis.\n",
    "\n",
    "<ins>Input</ins> - A file containing Apache Web server logs.\n",
    "\n",
    "<ins>Output</ins> - After execution of the notebook, the directory `access.csv.d/` will contain CSV files with the a structured version of the logs. The columns of the CSV table are the fields `remote_host`, `timestamp_utc`, `request_first_line`, `request_header_referer`, `request_header_user_agent`, `request_method`, `response_bytes_clf` and `status`.\n",
    "\n",
    "<ins>Method</ins> - Parse the log file `access.log`, identify the fields (remote host, received time, ...) of each log entry, construct a dataframe containing the data and write it on disk.\n",
    "\n",
    "<ins>Tools</ins> - SparkSQL from Spark 2.4.3, apache_log_parser 1.7.0"
   ]
  },
  {
   "cell_type": "markdown",
   "metadata": {},
   "source": [
    "**Table of content**\n",
    "* [Initialisation](#init)\n",
    "* [Parse the log file](#parse)\n",
    "* [Convert received time](#convert)\n",
    "* [Write on disk](#write)"
   ]
  },
  {
   "cell_type": "markdown",
   "metadata": {},
   "source": [
    "## Initialisation <a class=\"anchor\" id=\"init\"></a>\n",
    "Import libraries and start a Spark session."
   ]
  },
  {
   "cell_type": "code",
   "execution_count": 1,
   "metadata": {},
   "outputs": [],
   "source": [
    "from pyspark.sql import SparkSession\n",
    "from pyspark.sql import Row\n",
    "from pyspark.sql.functions import to_timestamp\n",
    "import apache_log_parser"
   ]
  },
  {
   "cell_type": "code",
   "execution_count": 2,
   "metadata": {},
   "outputs": [
    {
     "data": {
      "text/html": [
       "\n",
       "            <div>\n",
       "                <p><b>SparkSession - in-memory</b></p>\n",
       "                \n",
       "        <div>\n",
       "            <p><b>SparkContext</b></p>\n",
       "\n",
       "            <p><a href=\"http://192.168.0.31:4041\">Spark UI</a></p>\n",
       "\n",
       "            <dl>\n",
       "              <dt>Version</dt>\n",
       "                <dd><code>v2.4.3</code></dd>\n",
       "              <dt>Master</dt>\n",
       "                <dd><code>local[*]</code></dd>\n",
       "              <dt>AppName</dt>\n",
       "                <dd><code>pyspark-shell</code></dd>\n",
       "            </dl>\n",
       "        </div>\n",
       "        \n",
       "            </div>\n",
       "        "
      ],
      "text/plain": [
       "<pyspark.sql.session.SparkSession at 0x112c2b910>"
      ]
     },
     "execution_count": 2,
     "metadata": {},
     "output_type": "execute_result"
    }
   ],
   "source": [
    "spark = SparkSession.builder.config('spark.driver.memory','8G').getOrCreate()\n",
    "spark"
   ]
  },
  {
   "cell_type": "markdown",
   "metadata": {},
   "source": [
    "## Parse the log file <a class=\"anchor\" id=\"parse\"></a>\n",
    "Construct a list where each element is a log entry."
   ]
  },
  {
   "cell_type": "code",
   "execution_count": 3,
   "metadata": {},
   "outputs": [
    {
     "name": "stdout",
     "output_type": "stream",
     "text": [
      "CPU times: user 1.88 s, sys: 1.04 s, total: 2.92 s\n",
      "Wall time: 2.96 s\n"
     ]
    }
   ],
   "source": [
    "%%time\n",
    "log_file = './access.log'\n",
    "with open(log_file) as OPEN_LOG_FILE:\n",
    "    entries = OPEN_LOG_FILE.readlines()"
   ]
  },
  {
   "cell_type": "markdown",
   "metadata": {},
   "source": [
    "Construct a function using the Apache log parser to convert a log entry to a dictionary."
   ]
  },
  {
   "cell_type": "code",
   "execution_count": 4,
   "metadata": {},
   "outputs": [],
   "source": [
    "log_regex = '%h %l %u %t \\\"%r\\\" %>s %b \\\"%{Referer}i\\\" \\\"%{User-agent}i\\\"'\n",
    "log_parser = apache_log_parser.make_parser(log_regex)\n",
    "\n",
    "def line2dict(entry, fields):\n",
    "    entryd = log_parser(entry)\n",
    "    return {field:entryd[field]\n",
    "            for field in fields\n",
    "            if  field in list(entryd.keys())}"
   ]
  },
  {
   "cell_type": "markdown",
   "metadata": {},
   "source": [
    "Construct a Spark dataframe whose columns are a subset of the log entry fields."
   ]
  },
  {
   "cell_type": "code",
   "execution_count": 5,
   "metadata": {},
   "outputs": [
    {
     "name": "stdout",
     "output_type": "stream",
     "text": [
      "CPU times: user 14min, sys: 11.8 s, total: 14min 12s\n",
      "Wall time: 14min 22s\n"
     ]
    }
   ],
   "source": [
    "%%time\n",
    "\n",
    "some_entry_fields = ['remote_host',\n",
    "                     'request_first_line',\n",
    "                     'request_header_referer',\n",
    "                     'request_header_user_agent',\n",
    "                     'request_method',\n",
    "                     'response_bytes_clf',\n",
    "                     'status']\n",
    "selected_entry_fields = some_entry_fields + ['time_received_utc_isoformat']\n",
    "\n",
    "entries_df = spark.createDataFrame(Row(**line2dict(entry, selected_entry_fields)) for entry in entries[1:])"
   ]
  },
  {
   "cell_type": "markdown",
   "metadata": {},
   "source": [
    "## Convert received time <a class=\"anchor\" id=\"convert\"></a>\n",
    "Convert from UTC string timestamp to number of seconds from the epoch.<br>\n",
    "Remove entries that do not correspond to the format."
   ]
  },
  {
   "cell_type": "code",
   "execution_count": 6,
   "metadata": {},
   "outputs": [],
   "source": [
    "time_format = \"yyyy-MM-dd'T'HH:mm:ss'+00:00'\"\n",
    "entries_df = entries_df.withColumn('timestamp_utc',\n",
    "                                   to_timestamp(entries_df['time_received_utc_isoformat'],\n",
    "                                                format=time_format).cast('long'))\n",
    "entries_df = entries_df.where(entries_df['timestamp_utc'].isNotNull())"
   ]
  },
  {
   "cell_type": "markdown",
   "metadata": {},
   "source": [
    "## Write on disk <a class=\"anchor\" id=\"write\"></a>\n",
    "Write dataframe to CSV files."
   ]
  },
  {
   "cell_type": "code",
   "execution_count": 7,
   "metadata": {},
   "outputs": [
    {
     "name": "stdout",
     "output_type": "stream",
     "text": [
      "CPU times: user 10.5 ms, sys: 5.46 ms, total: 16 ms\n",
      "Wall time: 38 s\n"
     ]
    }
   ],
   "source": [
    "%%time\n",
    "output_directory = './access.csv.d'\n",
    "csv_entry_fields = some_entry_fields + ['timestamp_utc']\n",
    "entries_df.select(csv_entry_fields).write.option('header','true').csv(output_directory, mode='overwrite')"
   ]
  },
  {
   "cell_type": "markdown",
   "metadata": {},
   "source": [
    "Close the Spark session."
   ]
  },
  {
   "cell_type": "code",
   "execution_count": 8,
   "metadata": {},
   "outputs": [],
   "source": [
    "spark.stop()"
   ]
  },
  {
   "cell_type": "markdown",
   "metadata": {},
   "source": [
    "*(end of the Structuration notebook)*"
   ]
  }
 ],
 "metadata": {
  "kernelspec": {
   "display_name": "Python 3",
   "language": "python",
   "name": "python3"
  },
  "language_info": {
   "codemirror_mode": {
    "name": "ipython",
    "version": 3
   },
   "file_extension": ".py",
   "mimetype": "text/x-python",
   "name": "python",
   "nbconvert_exporter": "python",
   "pygments_lexer": "ipython3",
   "version": "3.8.5"
  }
 },
 "nbformat": 4,
 "nbformat_minor": 2
}
