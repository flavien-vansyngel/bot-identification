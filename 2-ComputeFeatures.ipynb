{
 "cells": [
  {
   "cell_type": "markdown",
   "metadata": {},
   "source": [
    "# Computation of the session features\n",
    "\n",
    "<ins>Aim</ins> - Compute the features (\"request interarrival time\", \"session interarrival time\" and \"number of requests per session\") needed for the data analysis by preprocessing the access log data.\n",
    "\n",
    "<ins>Input</ins> - The structured logs as produced by the `Structuration.ipynb` notebook.\n",
    "\n",
    "<ins>Output</ins> - Two CSV tables written in `./requests.csv.d` and `./sessions.csv.d`. They contain the features and addtional information.\n",
    "\n",
    "<ins>Method</ins> - Read the strutured logs, compute the difference between arrival times of requests for each hosts, identify the sessions and compute the difference between arrival times of sessions.\n",
    "\n",
    "<ins>Tools</ins> - SparkSQL from Spark 2.4.3, pandas 0.24.2"
   ]
  },
  {
   "cell_type": "markdown",
   "metadata": {},
   "source": [
    "**Table of content**\n",
    "* [Initialisation](#init)\n",
    "* [Read the logs](#read)\n",
    "* [Compute the \"request interarrival time\" feature](#request)\n",
    "* [Compute the \"session interarrival time\" and \"number of requests per session\" features](#session)\n",
    "* [Write on disk](#write)"
   ]
  },
  {
   "cell_type": "markdown",
   "metadata": {},
   "source": [
    "## Initialisation <a class=\"anchor\" id=\"init\"></a>\n",
    "Import libraries and start a Spark session."
   ]
  },
  {
   "cell_type": "code",
   "execution_count": 1,
   "metadata": {},
   "outputs": [],
   "source": [
    "from pyspark.sql import SparkSession\n",
    "from pyspark.sql.types import StructType, StructField, StringType, LongType\n",
    "from pyspark.sql.functions import *\n",
    "from pyspark.sql.window import Window\n",
    "import pandas as pd"
   ]
  },
  {
   "cell_type": "code",
   "execution_count": 2,
   "metadata": {
    "scrolled": true
   },
   "outputs": [
    {
     "data": {
      "text/html": [
       "\n",
       "            <div>\n",
       "                <p><b>SparkSession - in-memory</b></p>\n",
       "                \n",
       "        <div>\n",
       "            <p><b>SparkContext</b></p>\n",
       "\n",
       "            <p><a href=\"http://192.168.0.31:4041\">Spark UI</a></p>\n",
       "\n",
       "            <dl>\n",
       "              <dt>Version</dt>\n",
       "                <dd><code>v2.4.3</code></dd>\n",
       "              <dt>Master</dt>\n",
       "                <dd><code>local[*]</code></dd>\n",
       "              <dt>AppName</dt>\n",
       "                <dd><code>pyspark-shell</code></dd>\n",
       "            </dl>\n",
       "        </div>\n",
       "        \n",
       "            </div>\n",
       "        "
      ],
      "text/plain": [
       "<pyspark.sql.session.SparkSession at 0x1192db710>"
      ]
     },
     "execution_count": 2,
     "metadata": {},
     "output_type": "execute_result"
    }
   ],
   "source": [
    "spark = SparkSession.builder.config('spark.driver.memory','8G').getOrCreate()\n",
    "spark"
   ]
  },
  {
   "cell_type": "markdown",
   "metadata": {},
   "source": [
    "## Read the logs <a class=\"anchor\" id=\"read\"></a>\n",
    "Read the structured logs produced by the `Stucturation.ipynb` notebook."
   ]
  },
  {
   "cell_type": "code",
   "execution_count": 3,
   "metadata": {},
   "outputs": [],
   "source": [
    "input_directory = './access.csv.d'\n",
    "\n",
    "keys_type = [( 'remote_host',               StringType() ),\n",
    "             ( 'request_first_line',        StringType() ),\n",
    "             ( 'request_header_referer',    StringType() ),\n",
    "             ( 'request_header_user_agent', StringType() ),\n",
    "             ( 'request_method',            StringType() ),\n",
    "             ( 'response_bytes_clf',        LongType()   ),\n",
    "             ( 'status',                    StringType() ),\n",
    "             ( 'timestamp_utc',             LongType()   )\n",
    "            ]\n",
    "schema = StructType([StructField(key, ktype, True) for key,ktype in keys_type])\n",
    "\n",
    "access = spark.read.option('header','true').schema(schema).csv(input_directory)"
   ]
  },
  {
   "cell_type": "markdown",
   "metadata": {},
   "source": [
    "Add a column identifying the client (IP + user agent)."
   ]
  },
  {
   "cell_type": "code",
   "execution_count": 4,
   "metadata": {},
   "outputs": [],
   "source": [
    "access = access.withColumn('client',\n",
    "                           concat(col('remote_host'),col('request_header_user_agent')))"
   ]
  },
  {
   "cell_type": "markdown",
   "metadata": {},
   "source": [
    "Print basic properties of the log dataframe. <br>\n",
    "Print a preview of the data."
   ]
  },
  {
   "cell_type": "code",
   "execution_count": 5,
   "metadata": {
    "scrolled": false
   },
   "outputs": [
    {
     "name": "stdout",
     "output_type": "stream",
     "text": [
      "Number of log entries: 5437038\n",
      "\n",
      "Schema and first rows:\n",
      "root\n",
      " |-- remote_host: string (nullable = true)\n",
      " |-- request_first_line: string (nullable = true)\n",
      " |-- request_header_referer: string (nullable = true)\n",
      " |-- request_header_user_agent: string (nullable = true)\n",
      " |-- request_method: string (nullable = true)\n",
      " |-- response_bytes_clf: long (nullable = true)\n",
      " |-- status: string (nullable = true)\n",
      " |-- timestamp_utc: long (nullable = true)\n",
      " |-- client: string (nullable = true)\n",
      "\n"
     ]
    },
    {
     "data": {
      "text/html": [
       "<div>\n",
       "<style scoped>\n",
       "    .dataframe tbody tr th:only-of-type {\n",
       "        vertical-align: middle;\n",
       "    }\n",
       "\n",
       "    .dataframe tbody tr th {\n",
       "        vertical-align: top;\n",
       "    }\n",
       "\n",
       "    .dataframe thead th {\n",
       "        text-align: right;\n",
       "    }\n",
       "</style>\n",
       "<table border=\"1\" class=\"dataframe\">\n",
       "  <thead>\n",
       "    <tr style=\"text-align: right;\">\n",
       "      <th></th>\n",
       "      <th>remote_host</th>\n",
       "      <th>request_first_line</th>\n",
       "      <th>request_header_referer</th>\n",
       "      <th>request_header_user_agent</th>\n",
       "      <th>request_method</th>\n",
       "      <th>response_bytes_clf</th>\n",
       "      <th>status</th>\n",
       "      <th>timestamp_utc</th>\n",
       "      <th>client</th>\n",
       "    </tr>\n",
       "  </thead>\n",
       "  <tbody>\n",
       "    <tr>\n",
       "      <th>3426025</th>\n",
       "      <td>149.56.83.40</td>\n",
       "      <td>POST /administrator/index.php HTTP/1.1</td>\n",
       "      <td>-</td>\n",
       "      <td>-</td>\n",
       "      <td>POST</td>\n",
       "      <td>4498.0</td>\n",
       "      <td>200</td>\n",
       "      <td>1.486545e+09</td>\n",
       "      <td>149.56.83.40-</td>\n",
       "    </tr>\n",
       "    <tr>\n",
       "      <th>725044</th>\n",
       "      <td>31.184.253.29</td>\n",
       "      <td>POST /index.php?option=com_contact&amp;view=contac...</td>\n",
       "      <td>-</td>\n",
       "      <td>-</td>\n",
       "      <td>POST</td>\n",
       "      <td>5.0</td>\n",
       "      <td>303</td>\n",
       "      <td>1.582289e+09</td>\n",
       "      <td>31.184.253.29-</td>\n",
       "    </tr>\n",
       "    <tr>\n",
       "      <th>4007276</th>\n",
       "      <td>158.69.5.181</td>\n",
       "      <td>POST /administrator/index.php HTTP/1.1</td>\n",
       "      <td>-</td>\n",
       "      <td>-</td>\n",
       "      <td>POST</td>\n",
       "      <td>4498.0</td>\n",
       "      <td>200</td>\n",
       "      <td>1.522889e+09</td>\n",
       "      <td>158.69.5.181-</td>\n",
       "    </tr>\n",
       "    <tr>\n",
       "      <th>1168665</th>\n",
       "      <td>42.236.10.106</td>\n",
       "      <td>GET /templates/jp_hotel/css/menu.css HTTP/1.1</td>\n",
       "      <td>http://www.almhuette-raith.at/</td>\n",
       "      <td>Mozilla/5.0 (Linux; U; Android 8.1.0; zh-CN; E...</td>\n",
       "      <td>GET</td>\n",
       "      <td>1457.0</td>\n",
       "      <td>200</td>\n",
       "      <td>1.563179e+09</td>\n",
       "      <td>42.236.10.106Mozilla/5.0 (Linux; U; Android 8....</td>\n",
       "    </tr>\n",
       "    <tr>\n",
       "      <th>1779363</th>\n",
       "      <td>5.113.35.73</td>\n",
       "      <td>GET /apache-log/access.log HTTP/1.1</td>\n",
       "      <td>http://www.almhuette-raith.at/apache-log/</td>\n",
       "      <td>Mozilla/5.0 (Windows NT 6.1; Trident/7.0; rv:1...</td>\n",
       "      <td>GET</td>\n",
       "      <td>43192.0</td>\n",
       "      <td>206</td>\n",
       "      <td>1.527492e+09</td>\n",
       "      <td>5.113.35.73Mozilla/5.0 (Windows NT 6.1; Triden...</td>\n",
       "    </tr>\n",
       "    <tr>\n",
       "      <th>3936233</th>\n",
       "      <td>158.69.5.181</td>\n",
       "      <td>POST /administrator/index.php HTTP/1.1</td>\n",
       "      <td>-</td>\n",
       "      <td>-</td>\n",
       "      <td>POST</td>\n",
       "      <td>4498.0</td>\n",
       "      <td>200</td>\n",
       "      <td>1.522866e+09</td>\n",
       "      <td>158.69.5.181-</td>\n",
       "    </tr>\n",
       "    <tr>\n",
       "      <th>1109149</th>\n",
       "      <td>193.106.31.130</td>\n",
       "      <td>POST /administrator/index.php HTTP/1.0</td>\n",
       "      <td>-</td>\n",
       "      <td>Mozilla/4.0 (compatible; MSIE 7.0; Windows NT ...</td>\n",
       "      <td>POST</td>\n",
       "      <td>4481.0</td>\n",
       "      <td>200</td>\n",
       "      <td>1.560765e+09</td>\n",
       "      <td>193.106.31.130Mozilla/4.0 (compatible; MSIE 7....</td>\n",
       "    </tr>\n",
       "    <tr>\n",
       "      <th>5296168</th>\n",
       "      <td>13.84.43.203</td>\n",
       "      <td>POST //administrator/index.php HTTP/1.1</td>\n",
       "      <td>-</td>\n",
       "      <td>Mozilla/5.0 (Windows NT 10.0; Win64; x64; rv:6...</td>\n",
       "      <td>POST</td>\n",
       "      <td>4501.0</td>\n",
       "      <td>200</td>\n",
       "      <td>1.572988e+09</td>\n",
       "      <td>13.84.43.203Mozilla/5.0 (Windows NT 10.0; Win6...</td>\n",
       "    </tr>\n",
       "    <tr>\n",
       "      <th>245153</th>\n",
       "      <td>52.171.38.247</td>\n",
       "      <td>GET //administrator/index.php HTTP/1.1</td>\n",
       "      <td>-</td>\n",
       "      <td>Mozilla/5.0 (Windows NT 10.0; Win64; x64; rv:6...</td>\n",
       "      <td>GET</td>\n",
       "      <td>4270.0</td>\n",
       "      <td>200</td>\n",
       "      <td>1.573759e+09</td>\n",
       "      <td>52.171.38.247Mozilla/5.0 (Windows NT 10.0; Win...</td>\n",
       "    </tr>\n",
       "    <tr>\n",
       "      <th>3415473</th>\n",
       "      <td>149.56.83.40</td>\n",
       "      <td>POST /administrator/index.php HTTP/1.1</td>\n",
       "      <td>-</td>\n",
       "      <td>-</td>\n",
       "      <td>POST</td>\n",
       "      <td>4498.0</td>\n",
       "      <td>200</td>\n",
       "      <td>1.486541e+09</td>\n",
       "      <td>149.56.83.40-</td>\n",
       "    </tr>\n",
       "  </tbody>\n",
       "</table>\n",
       "</div>"
      ],
      "text/plain": [
       "            remote_host                                 request_first_line  \\\n",
       "3426025    149.56.83.40             POST /administrator/index.php HTTP/1.1   \n",
       "725044    31.184.253.29  POST /index.php?option=com_contact&view=contac...   \n",
       "4007276    158.69.5.181             POST /administrator/index.php HTTP/1.1   \n",
       "1168665   42.236.10.106      GET /templates/jp_hotel/css/menu.css HTTP/1.1   \n",
       "1779363     5.113.35.73                GET /apache-log/access.log HTTP/1.1   \n",
       "3936233    158.69.5.181             POST /administrator/index.php HTTP/1.1   \n",
       "1109149  193.106.31.130             POST /administrator/index.php HTTP/1.0   \n",
       "5296168    13.84.43.203            POST //administrator/index.php HTTP/1.1   \n",
       "245153    52.171.38.247             GET //administrator/index.php HTTP/1.1   \n",
       "3415473    149.56.83.40             POST /administrator/index.php HTTP/1.1   \n",
       "\n",
       "                            request_header_referer  \\\n",
       "3426025                                          -   \n",
       "725044                                           -   \n",
       "4007276                                          -   \n",
       "1168665             http://www.almhuette-raith.at/   \n",
       "1779363  http://www.almhuette-raith.at/apache-log/   \n",
       "3936233                                          -   \n",
       "1109149                                          -   \n",
       "5296168                                          -   \n",
       "245153                                           -   \n",
       "3415473                                          -   \n",
       "\n",
       "                                 request_header_user_agent request_method  \\\n",
       "3426025                                                  -           POST   \n",
       "725044                                                   -           POST   \n",
       "4007276                                                  -           POST   \n",
       "1168665  Mozilla/5.0 (Linux; U; Android 8.1.0; zh-CN; E...            GET   \n",
       "1779363  Mozilla/5.0 (Windows NT 6.1; Trident/7.0; rv:1...            GET   \n",
       "3936233                                                  -           POST   \n",
       "1109149  Mozilla/4.0 (compatible; MSIE 7.0; Windows NT ...           POST   \n",
       "5296168  Mozilla/5.0 (Windows NT 10.0; Win64; x64; rv:6...           POST   \n",
       "245153   Mozilla/5.0 (Windows NT 10.0; Win64; x64; rv:6...            GET   \n",
       "3415473                                                  -           POST   \n",
       "\n",
       "         response_bytes_clf status  timestamp_utc  \\\n",
       "3426025              4498.0    200   1.486545e+09   \n",
       "725044                  5.0    303   1.582289e+09   \n",
       "4007276              4498.0    200   1.522889e+09   \n",
       "1168665              1457.0    200   1.563179e+09   \n",
       "1779363             43192.0    206   1.527492e+09   \n",
       "3936233              4498.0    200   1.522866e+09   \n",
       "1109149              4481.0    200   1.560765e+09   \n",
       "5296168              4501.0    200   1.572988e+09   \n",
       "245153               4270.0    200   1.573759e+09   \n",
       "3415473              4498.0    200   1.486541e+09   \n",
       "\n",
       "                                                    client  \n",
       "3426025                                      149.56.83.40-  \n",
       "725044                                      31.184.253.29-  \n",
       "4007276                                      158.69.5.181-  \n",
       "1168665  42.236.10.106Mozilla/5.0 (Linux; U; Android 8....  \n",
       "1779363  5.113.35.73Mozilla/5.0 (Windows NT 6.1; Triden...  \n",
       "3936233                                      158.69.5.181-  \n",
       "1109149  193.106.31.130Mozilla/4.0 (compatible; MSIE 7....  \n",
       "5296168  13.84.43.203Mozilla/5.0 (Windows NT 10.0; Win6...  \n",
       "245153   52.171.38.247Mozilla/5.0 (Windows NT 10.0; Win...  \n",
       "3415473                                      149.56.83.40-  "
      ]
     },
     "execution_count": 5,
     "metadata": {},
     "output_type": "execute_result"
    }
   ],
   "source": [
    "print(f'Number of log entries: {access.count()}\\n')\n",
    "print('Schema and first rows:')\n",
    "access.printSchema()\n",
    "access.toPandas().sample(n=10).head(10)"
   ]
  },
  {
   "cell_type": "markdown",
   "metadata": {},
   "source": [
    "## Compute the \"request interarrival time\" feature <a class=\"anchor\" id=\"request\"></a>\n",
    "Define windows that will be used to apply lag function and cumulative sum function."
   ]
  },
  {
   "cell_type": "code",
   "execution_count": 6,
   "metadata": {},
   "outputs": [],
   "source": [
    "host_window = Window.partitionBy(\"client\").orderBy(\"timestamp_utc\")\n",
    "host_window_cum = host_window.rowsBetween(Window.unboundedPreceding, 0)"
   ]
  },
  {
   "cell_type": "markdown",
   "metadata": {},
   "source": [
    "Select only the host names and the timestamp from the logs.<br>\n",
    "Add a column containing the arrival time of the previous request of the host (`null` if the host is seen for the first time in the log)"
   ]
  },
  {
   "cell_type": "code",
   "execution_count": 7,
   "metadata": {},
   "outputs": [],
   "source": [
    "requests = access.select( ['client', 'timestamp_utc'] ) \\\n",
    "                 .withColumn('previous_request_timestamp_utc',\n",
    "                             lag(col('timestamp_utc'))\n",
    "                             .over(host_window) )"
   ]
  },
  {
   "cell_type": "markdown",
   "metadata": {},
   "source": [
    "Add a column containing the **request interarrival time feature** and drop the column containing the arrival time of the previous request of the host.<br>\n",
    "Set the request interarrival time to `null` if it is greater than the maximum session time."
   ]
  },
  {
   "cell_type": "code",
   "execution_count": 8,
   "metadata": {},
   "outputs": [],
   "source": [
    "max_session_time_seconds = 30*60\n",
    "\n",
    "requests = requests.withColumn('request_interarrival_time',\n",
    "                               col('timestamp_utc') - col('previous_request_timestamp_utc')) \\\n",
    "                   .select( ['client', 'timestamp_utc', 'request_interarrival_time'] )\n",
    "\n",
    "requests = requests.withColumn('request_interarrival_time',\n",
    "                               when(requests['request_interarrival_time'] > max_session_time_seconds, None)\n",
    "                               .otherwise(requests['request_interarrival_time']) )"
   ]
  },
  {
   "cell_type": "markdown",
   "metadata": {},
   "source": [
    "Add a column containing a boolean answering the question \"Is it the first request of the session?\"."
   ]
  },
  {
   "cell_type": "code",
   "execution_count": 9,
   "metadata": {},
   "outputs": [],
   "source": [
    "requests = requests.withColumn('new_session',\n",
    "                               col('request_interarrival_time').isNull() )"
   ]
  },
  {
   "cell_type": "markdown",
   "metadata": {},
   "source": [
    "Add a column containing the number of the session to which the request belongs to (count from beginning of the log file)."
   ]
  },
  {
   "cell_type": "code",
   "execution_count": 10,
   "metadata": {},
   "outputs": [],
   "source": [
    "requests = requests.withColumn('session_number',\n",
    "                               sum(col('new_session').cast('integer'))\n",
    "                               .over(host_window_cum) )"
   ]
  },
  {
   "cell_type": "markdown",
   "metadata": {},
   "source": [
    "Add a column containing a boolean answering the question \"Is it the first time the host appears in the logs?\"."
   ]
  },
  {
   "cell_type": "code",
   "execution_count": 11,
   "metadata": {},
   "outputs": [],
   "source": [
    "requests = requests.withColumn('first_connection',\n",
    "                               col('new_session') & (col('session_number') == 1) )"
   ]
  },
  {
   "cell_type": "markdown",
   "metadata": {},
   "source": [
    "Reorder the columns and print a random sample of the table."
   ]
  },
  {
   "cell_type": "code",
   "execution_count": 12,
   "metadata": {},
   "outputs": [
    {
     "name": "stdout",
     "output_type": "stream",
     "text": [
      "CPU times: user 26.4 s, sys: 1.96 s, total: 28.3 s\n",
      "Wall time: 50.9 s\n"
     ]
    },
    {
     "data": {
      "text/html": [
       "<div>\n",
       "<style scoped>\n",
       "    .dataframe tbody tr th:only-of-type {\n",
       "        vertical-align: middle;\n",
       "    }\n",
       "\n",
       "    .dataframe tbody tr th {\n",
       "        vertical-align: top;\n",
       "    }\n",
       "\n",
       "    .dataframe thead th {\n",
       "        text-align: right;\n",
       "    }\n",
       "</style>\n",
       "<table border=\"1\" class=\"dataframe\">\n",
       "  <thead>\n",
       "    <tr style=\"text-align: right;\">\n",
       "      <th></th>\n",
       "      <th>client</th>\n",
       "      <th>timestamp_utc</th>\n",
       "      <th>first_connection</th>\n",
       "      <th>new_session</th>\n",
       "      <th>session_number</th>\n",
       "      <th>request_interarrival_time</th>\n",
       "    </tr>\n",
       "  </thead>\n",
       "  <tbody>\n",
       "    <tr>\n",
       "      <th>4021075</th>\n",
       "      <td>13.84.43.203Mozilla/5.0 (Windows NT 10.0; Win6...</td>\n",
       "      <td>1572924904</td>\n",
       "      <td>False</td>\n",
       "      <td>False</td>\n",
       "      <td>1</td>\n",
       "      <td>1.0</td>\n",
       "    </tr>\n",
       "    <tr>\n",
       "      <th>3791045</th>\n",
       "      <td>205.167.170.15Go-http-client/1.1</td>\n",
       "      <td>1456870009</td>\n",
       "      <td>False</td>\n",
       "      <td>False</td>\n",
       "      <td>23</td>\n",
       "      <td>0.0</td>\n",
       "    </tr>\n",
       "    <tr>\n",
       "      <th>2829586</th>\n",
       "      <td>95.216.96.254Mozilla/5.0 (compatible; SEOkicks...</td>\n",
       "      <td>1570868552</td>\n",
       "      <td>False</td>\n",
       "      <td>False</td>\n",
       "      <td>21</td>\n",
       "      <td>1.0</td>\n",
       "    </tr>\n",
       "    <tr>\n",
       "      <th>3746136</th>\n",
       "      <td>5.112.66.178Mozilla/5.0 (Windows NT 6.1; Tride...</td>\n",
       "      <td>1529585517</td>\n",
       "      <td>False</td>\n",
       "      <td>False</td>\n",
       "      <td>1</td>\n",
       "      <td>0.0</td>\n",
       "    </tr>\n",
       "    <tr>\n",
       "      <th>2937983</th>\n",
       "      <td>42.126.25.173Mozilla/5.0 (Macintosh; Intel Mac...</td>\n",
       "      <td>1563083691</td>\n",
       "      <td>False</td>\n",
       "      <td>False</td>\n",
       "      <td>1</td>\n",
       "      <td>0.0</td>\n",
       "    </tr>\n",
       "    <tr>\n",
       "      <th>4394835</th>\n",
       "      <td>13.84.43.203Mozilla/5.0 (Windows NT 10.0; Win6...</td>\n",
       "      <td>1573065200</td>\n",
       "      <td>False</td>\n",
       "      <td>False</td>\n",
       "      <td>1</td>\n",
       "      <td>0.0</td>\n",
       "    </tr>\n",
       "    <tr>\n",
       "      <th>4933139</th>\n",
       "      <td>5.113.35.73Mozilla/5.0 (Windows NT 6.1; Triden...</td>\n",
       "      <td>1527494182</td>\n",
       "      <td>False</td>\n",
       "      <td>False</td>\n",
       "      <td>1</td>\n",
       "      <td>1.0</td>\n",
       "    </tr>\n",
       "    <tr>\n",
       "      <th>1270126</th>\n",
       "      <td>198.50.156.189-</td>\n",
       "      <td>1491042324</td>\n",
       "      <td>False</td>\n",
       "      <td>False</td>\n",
       "      <td>1</td>\n",
       "      <td>1.0</td>\n",
       "    </tr>\n",
       "    <tr>\n",
       "      <th>3080129</th>\n",
       "      <td>100.1.14.108python-requests/2.22.0</td>\n",
       "      <td>1569628489</td>\n",
       "      <td>False</td>\n",
       "      <td>False</td>\n",
       "      <td>15</td>\n",
       "      <td>0.0</td>\n",
       "    </tr>\n",
       "    <tr>\n",
       "      <th>4436578</th>\n",
       "      <td>138.197.111.212Mozilla/5.0 (X11; Datanyze; Lin...</td>\n",
       "      <td>1525405519</td>\n",
       "      <td>False</td>\n",
       "      <td>False</td>\n",
       "      <td>1</td>\n",
       "      <td>0.0</td>\n",
       "    </tr>\n",
       "  </tbody>\n",
       "</table>\n",
       "</div>"
      ],
      "text/plain": [
       "                                                    client  timestamp_utc  \\\n",
       "4021075  13.84.43.203Mozilla/5.0 (Windows NT 10.0; Win6...     1572924904   \n",
       "3791045                   205.167.170.15Go-http-client/1.1     1456870009   \n",
       "2829586  95.216.96.254Mozilla/5.0 (compatible; SEOkicks...     1570868552   \n",
       "3746136  5.112.66.178Mozilla/5.0 (Windows NT 6.1; Tride...     1529585517   \n",
       "2937983  42.126.25.173Mozilla/5.0 (Macintosh; Intel Mac...     1563083691   \n",
       "4394835  13.84.43.203Mozilla/5.0 (Windows NT 10.0; Win6...     1573065200   \n",
       "4933139  5.113.35.73Mozilla/5.0 (Windows NT 6.1; Triden...     1527494182   \n",
       "1270126                                    198.50.156.189-     1491042324   \n",
       "3080129                 100.1.14.108python-requests/2.22.0     1569628489   \n",
       "4436578  138.197.111.212Mozilla/5.0 (X11; Datanyze; Lin...     1525405519   \n",
       "\n",
       "         first_connection  new_session  session_number  \\\n",
       "4021075             False        False               1   \n",
       "3791045             False        False              23   \n",
       "2829586             False        False              21   \n",
       "3746136             False        False               1   \n",
       "2937983             False        False               1   \n",
       "4394835             False        False               1   \n",
       "4933139             False        False               1   \n",
       "1270126             False        False               1   \n",
       "3080129             False        False              15   \n",
       "4436578             False        False               1   \n",
       "\n",
       "         request_interarrival_time  \n",
       "4021075                        1.0  \n",
       "3791045                        0.0  \n",
       "2829586                        1.0  \n",
       "3746136                        0.0  \n",
       "2937983                        0.0  \n",
       "4394835                        0.0  \n",
       "4933139                        1.0  \n",
       "1270126                        1.0  \n",
       "3080129                        0.0  \n",
       "4436578                        0.0  "
      ]
     },
     "execution_count": 12,
     "metadata": {},
     "output_type": "execute_result"
    }
   ],
   "source": [
    "%%time\n",
    "requests = requests.select( ['client', 'timestamp_utc', 'first_connection',\n",
    "                             'new_session','session_number','request_interarrival_time'] )\n",
    "requests.toPandas().sample(n=10).head(10)"
   ]
  },
  {
   "cell_type": "markdown",
   "metadata": {},
   "source": [
    "## Compute the \"session interarrival time\" and \"number of requests per session\" features <a class=\"anchor\" id=\"session\"></a>\n",
    "Group the requests by host and session number to get the sessions arrival time and the **number of requests per session**."
   ]
  },
  {
   "cell_type": "code",
   "execution_count": 13,
   "metadata": {},
   "outputs": [],
   "source": [
    "sessions = requests.groupBy( ['client','session_number'] ) \\\n",
    "                   .agg( {'timestamp_utc':'min', '*':'count'} )\n",
    "sessions = sessions.withColumnRenamed('min(timestamp_utc)', 'timestamp_utc') \\\n",
    "                   .withColumnRenamed('count(1)', 'number_of_requests')"
   ]
  },
  {
   "cell_type": "markdown",
   "metadata": {},
   "source": [
    "Add a column containing the arrival time of the previous session of the host (`null` if it is the first session of the host in the logs)"
   ]
  },
  {
   "cell_type": "code",
   "execution_count": 14,
   "metadata": {},
   "outputs": [],
   "source": [
    "sessions = sessions.withColumn('previous_session_timestamp_utc',\n",
    "                               lag(col('timestamp_utc'))\n",
    "                               .over(host_window) )"
   ]
  },
  {
   "cell_type": "markdown",
   "metadata": {},
   "source": [
    "Add a column containing the **session interarrival time** (`null` if it is the first session of the host in the logs)."
   ]
  },
  {
   "cell_type": "code",
   "execution_count": 15,
   "metadata": {},
   "outputs": [],
   "source": [
    "sessions = sessions.withColumn('session_interarrival_time',\n",
    "                               col('timestamp_utc') - col('previous_session_timestamp_utc') )"
   ]
  },
  {
   "cell_type": "markdown",
   "metadata": {},
   "source": [
    "Add a column containing the answer to the question \"Is it the first session of the host in the logs?\"."
   ]
  },
  {
   "cell_type": "code",
   "execution_count": 16,
   "metadata": {},
   "outputs": [],
   "source": [
    "sessions = sessions.withColumn('first_session',\n",
    "                               col('session_number') == 1 )"
   ]
  },
  {
   "cell_type": "markdown",
   "metadata": {},
   "source": [
    "Select the column to keep in the session table and print a random sample."
   ]
  },
  {
   "cell_type": "code",
   "execution_count": 17,
   "metadata": {},
   "outputs": [
    {
     "name": "stdout",
     "output_type": "stream",
     "text": [
      "CPU times: user 1.14 s, sys: 102 ms, total: 1.24 s\n",
      "Wall time: 16.5 s\n"
     ]
    },
    {
     "data": {
      "text/html": [
       "<div>\n",
       "<style scoped>\n",
       "    .dataframe tbody tr th:only-of-type {\n",
       "        vertical-align: middle;\n",
       "    }\n",
       "\n",
       "    .dataframe tbody tr th {\n",
       "        vertical-align: top;\n",
       "    }\n",
       "\n",
       "    .dataframe thead th {\n",
       "        text-align: right;\n",
       "    }\n",
       "</style>\n",
       "<table border=\"1\" class=\"dataframe\">\n",
       "  <thead>\n",
       "    <tr style=\"text-align: right;\">\n",
       "      <th></th>\n",
       "      <th>client</th>\n",
       "      <th>timestamp_utc</th>\n",
       "      <th>first_session</th>\n",
       "      <th>session_number</th>\n",
       "      <th>number_of_requests</th>\n",
       "      <th>session_interarrival_time</th>\n",
       "    </tr>\n",
       "  </thead>\n",
       "  <tbody>\n",
       "    <tr>\n",
       "      <th>231752</th>\n",
       "      <td>178.159.37.81Mozilla/5.0 (Windows NT 10.0; WOW...</td>\n",
       "      <td>1497712331</td>\n",
       "      <td>False</td>\n",
       "      <td>412</td>\n",
       "      <td>1</td>\n",
       "      <td>19722.0</td>\n",
       "    </tr>\n",
       "    <tr>\n",
       "      <th>192797</th>\n",
       "      <td>196.18.13.146Mozilla/5.0 (Windows NT 6.1; WOW6...</td>\n",
       "      <td>1554033776</td>\n",
       "      <td>False</td>\n",
       "      <td>4</td>\n",
       "      <td>1</td>\n",
       "      <td>19885.0</td>\n",
       "    </tr>\n",
       "    <tr>\n",
       "      <th>235059</th>\n",
       "      <td>184.175.214.54Mozilla/5.0 (Windows NT 6.1; Win...</td>\n",
       "      <td>1499271756</td>\n",
       "      <td>True</td>\n",
       "      <td>1</td>\n",
       "      <td>1</td>\n",
       "      <td>NaN</td>\n",
       "    </tr>\n",
       "    <tr>\n",
       "      <th>269229</th>\n",
       "      <td>178.159.37.81Mozilla/5.0 (Windows NT 6.3; WOW6...</td>\n",
       "      <td>1500772588</td>\n",
       "      <td>False</td>\n",
       "      <td>9</td>\n",
       "      <td>1</td>\n",
       "      <td>308577.0</td>\n",
       "    </tr>\n",
       "    <tr>\n",
       "      <th>112244</th>\n",
       "      <td>195.154.216.79Mozilla/5.0 (Windows NT 6.1; WOW...</td>\n",
       "      <td>1474497995</td>\n",
       "      <td>False</td>\n",
       "      <td>159</td>\n",
       "      <td>1</td>\n",
       "      <td>39463.0</td>\n",
       "    </tr>\n",
       "    <tr>\n",
       "      <th>147903</th>\n",
       "      <td>131.0.216.75Mozilla/5.0 (Windows NT 10.0; WOW6...</td>\n",
       "      <td>1585677333</td>\n",
       "      <td>True</td>\n",
       "      <td>1</td>\n",
       "      <td>5</td>\n",
       "      <td>NaN</td>\n",
       "    </tr>\n",
       "    <tr>\n",
       "      <th>239262</th>\n",
       "      <td>178.159.37.81Mozilla/5.0 (Windows NT 6.1; WOW6...</td>\n",
       "      <td>1494894781</td>\n",
       "      <td>False</td>\n",
       "      <td>269</td>\n",
       "      <td>1</td>\n",
       "      <td>5879.0</td>\n",
       "    </tr>\n",
       "    <tr>\n",
       "      <th>71997</th>\n",
       "      <td>49.205.77.48Mozilla/5.0 (Windows NT 10.0; Win6...</td>\n",
       "      <td>1582415233</td>\n",
       "      <td>True</td>\n",
       "      <td>1</td>\n",
       "      <td>1</td>\n",
       "      <td>NaN</td>\n",
       "    </tr>\n",
       "    <tr>\n",
       "      <th>52145</th>\n",
       "      <td>91.121.185.43Mozilla/5.0 (Windows NT 10.0; Win...</td>\n",
       "      <td>1589362516</td>\n",
       "      <td>False</td>\n",
       "      <td>447</td>\n",
       "      <td>1</td>\n",
       "      <td>29727.0</td>\n",
       "    </tr>\n",
       "    <tr>\n",
       "      <th>37828</th>\n",
       "      <td>73.209.138.183Mozilla/5.0 (Macintosh; Intel Ma...</td>\n",
       "      <td>1552078118</td>\n",
       "      <td>True</td>\n",
       "      <td>1</td>\n",
       "      <td>1</td>\n",
       "      <td>NaN</td>\n",
       "    </tr>\n",
       "  </tbody>\n",
       "</table>\n",
       "</div>"
      ],
      "text/plain": [
       "                                                   client  timestamp_utc  \\\n",
       "231752  178.159.37.81Mozilla/5.0 (Windows NT 10.0; WOW...     1497712331   \n",
       "192797  196.18.13.146Mozilla/5.0 (Windows NT 6.1; WOW6...     1554033776   \n",
       "235059  184.175.214.54Mozilla/5.0 (Windows NT 6.1; Win...     1499271756   \n",
       "269229  178.159.37.81Mozilla/5.0 (Windows NT 6.3; WOW6...     1500772588   \n",
       "112244  195.154.216.79Mozilla/5.0 (Windows NT 6.1; WOW...     1474497995   \n",
       "147903  131.0.216.75Mozilla/5.0 (Windows NT 10.0; WOW6...     1585677333   \n",
       "239262  178.159.37.81Mozilla/5.0 (Windows NT 6.1; WOW6...     1494894781   \n",
       "71997   49.205.77.48Mozilla/5.0 (Windows NT 10.0; Win6...     1582415233   \n",
       "52145   91.121.185.43Mozilla/5.0 (Windows NT 10.0; Win...     1589362516   \n",
       "37828   73.209.138.183Mozilla/5.0 (Macintosh; Intel Ma...     1552078118   \n",
       "\n",
       "        first_session  session_number  number_of_requests  \\\n",
       "231752          False             412                   1   \n",
       "192797          False               4                   1   \n",
       "235059           True               1                   1   \n",
       "269229          False               9                   1   \n",
       "112244          False             159                   1   \n",
       "147903           True               1                   5   \n",
       "239262          False             269                   1   \n",
       "71997            True               1                   1   \n",
       "52145           False             447                   1   \n",
       "37828            True               1                   1   \n",
       "\n",
       "        session_interarrival_time  \n",
       "231752                    19722.0  \n",
       "192797                    19885.0  \n",
       "235059                        NaN  \n",
       "269229                   308577.0  \n",
       "112244                    39463.0  \n",
       "147903                        NaN  \n",
       "239262                     5879.0  \n",
       "71997                         NaN  \n",
       "52145                     29727.0  \n",
       "37828                         NaN  "
      ]
     },
     "execution_count": 17,
     "metadata": {},
     "output_type": "execute_result"
    }
   ],
   "source": [
    "%%time\n",
    "sessions = sessions.select( ['client', 'timestamp_utc', 'first_session', 'session_number',\n",
    "                             'number_of_requests', 'session_interarrival_time'] )\n",
    "sessions.toPandas().sample(n=10).head(10)"
   ]
  },
  {
   "cell_type": "markdown",
   "metadata": {},
   "source": [
    "## Write on disk <a class=\"anchor\" id=\"write\"></a>\n",
    "Write tables to CSV files."
   ]
  },
  {
   "cell_type": "code",
   "execution_count": 18,
   "metadata": {},
   "outputs": [
    {
     "name": "stdout",
     "output_type": "stream",
     "text": [
      "CPU times: user 6.97 ms, sys: 3.94 ms, total: 10.9 ms\n",
      "Wall time: 34.4 s\n"
     ]
    }
   ],
   "source": [
    "%%time\n",
    "requests.write.option('header','true').csv('./requests.csv.d', mode='overwrite')\n",
    "sessions.write.option('header','true').csv('./sessions.csv.d', mode='overwrite')"
   ]
  },
  {
   "cell_type": "markdown",
   "metadata": {},
   "source": [
    "Close the Spark session."
   ]
  },
  {
   "cell_type": "code",
   "execution_count": 19,
   "metadata": {},
   "outputs": [],
   "source": [
    "spark.stop()"
   ]
  },
  {
   "cell_type": "markdown",
   "metadata": {},
   "source": [
    "*(end of the ComputeFeatures notebook)*"
   ]
  }
 ],
 "metadata": {
  "kernelspec": {
   "display_name": "Python 3",
   "language": "python",
   "name": "python3"
  },
  "language_info": {
   "codemirror_mode": {
    "name": "ipython",
    "version": 3
   },
   "file_extension": ".py",
   "mimetype": "text/x-python",
   "name": "python",
   "nbconvert_exporter": "python",
   "pygments_lexer": "ipython3",
   "version": "3.8.5"
  }
 },
 "nbformat": 4,
 "nbformat_minor": 2
}
